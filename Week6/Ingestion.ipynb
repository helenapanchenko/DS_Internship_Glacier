{
 "cells": [
  {
   "cell_type": "markdown",
   "id": "a5c03838",
   "metadata": {},
   "source": [
    "# Data Ingestion code"
   ]
  },
  {
   "cell_type": "markdown",
   "id": "bcd513c8",
   "metadata": {},
   "source": [
    "## Write a utility file"
   ]
  },
  {
   "cell_type": "code",
   "execution_count": 1,
   "id": "67b8648f",
   "metadata": {},
   "outputs": [
    {
     "name": "stdout",
     "output_type": "stream",
     "text": [
      "Overwriting utility.py\n"
     ]
    }
   ],
   "source": [
    "%%writefile utility.py\n",
    "import logging\n",
    "import os\n",
    "import subprocess\n",
    "import yaml\n",
    "import pandas as pd\n",
    "import datetime \n",
    "import gc\n",
    "import re\n",
    "\n",
    "\n",
    "def read_config_file(filepath):\n",
    "    with open(filepath, 'r') as stream:\n",
    "        try:\n",
    "            return yaml.safe_load(stream)\n",
    "        except yaml.YAMLError as exc:\n",
    "            logging.error(exc)\n",
    "\n",
    "\n",
    "def replacer(string, char):\n",
    "    pattern = char + '{2,}'\n",
    "    string = re.sub(pattern, char, string) \n",
    "    return string\n",
    "\n",
    "def col_header_val(df,table_config):\n",
    "    '''\n",
    "    Standardizes the column names.\n",
    "    '''\n",
    "    df.columns = df.columns.str.lower()\n",
    "    df.columns = df.columns.str.replace(r'[^\\w\\s]+', '', regex=True)\n",
    "    df.columns = df.columns.str.replace('\\s', '_', regex=True)\n",
    "    df.columns = list(map(lambda x: x.strip('_'), list(df.columns)))\n",
    "    df.columns = list(map(lambda x: replacer(x,'_'), list(df.columns)))\n",
    "    expected_col = list(map(lambda x: x.lower(),  table_config['columns']))\n",
    "    expected_col.sort()\n",
    "    df.columns =list(map(lambda x: x.lower(), list(df.columns)))\n",
    "    # for Dask DataFrame\n",
    "    df = df[list(sorted(df.columns))]\n",
    "    # for Pandas DataFrmae\n",
    "    # df = df.reindex(sorted(df.columns), axis=1)\n",
    "    if len(df.columns) == len(expected_col) and list(expected_col)  == list(df.columns):\n",
    "        print(\"Column name and column length validation passed.\")\n",
    "        return (1, df)\n",
    "    else:\n",
    "        print(\"Column name and column length validation failed.\")\n",
    "        mismatched_columns_file = list(set(df.columns).difference(expected_col))\n",
    "        print(\"Following File columns are not in the YAML file:\",mismatched_columns_file)\n",
    "        missing_YAML_file = list(set(expected_col).difference(df.columns))\n",
    "        print(\"Following YAML columns are not in the file uploaded:\",missing_YAML_file)\n",
    "        logging.info(f'df columns: {df.columns}')\n",
    "        logging.info(f'Expected columns: {expected_col}')\n",
    "        return (0, df)"
   ]
  },
  {
   "cell_type": "markdown",
   "id": "e40c7596",
   "metadata": {},
   "source": [
    "File address: https://www.kaggle.com/datasets/new-york-city/nyc-parking-tickets?select=Parking_Violations_Issued_-_Fiscal_Year_2017.csv"
   ]
  },
  {
   "cell_type": "markdown",
   "id": "628c5ad6",
   "metadata": {},
   "source": [
    "## Write an YAML file"
   ]
  },
  {
   "cell_type": "code",
   "execution_count": 2,
   "id": "a28aeec3",
   "metadata": {},
   "outputs": [
    {
     "name": "stdout",
     "output_type": "stream",
     "text": [
      "Overwriting file.yaml\n"
     ]
    }
   ],
   "source": [
    "%%writefile file.yaml\n",
    "file_type: csv\n",
    "dataset_name: parknig_data\n",
    "file_name: Parking_Violations_Issued_-_Fiscal_Year_2017\n",
    "table_name: Parking_Violations_Issued_-_Fiscal_Year_2017\n",
    "inbound_delimiter: \",\"\n",
    "outbound_delimiter: \"|\"\n",
    "skip_leading_rows: 1\n",
    "columns: \n",
    "    - summons_number\n",
    "    - plate_id\n",
    "    - registration_state\n",
    "    - plate_type\n",
    "    - issue_date\n",
    "    - violation_code\n",
    "    - vehicle_body_type\n",
    "    - vehicle_make\n",
    "    - issuing_agency\n",
    "    - street_code1\n",
    "    - street_code2\n",
    "    - street_code3\n",
    "    - vehicle_expiration_date\n",
    "    - violation_location\n",
    "    - violation_precinct\n",
    "    - issuer_precinct\n",
    "    - issuer_code\n",
    "    - issuer_command\n",
    "    - issuer_squad\n",
    "    - violation_time\n",
    "    - time_first_observed\n",
    "    - violation_county\n",
    "    - violation_in_front_of_or_opposite\n",
    "    - house_number\n",
    "    - street_name\n",
    "    - intersecting_street\n",
    "    - date_first_observed\n",
    "    - law_section\n",
    "    - sub_division\n",
    "    - violation_legal_code\n",
    "    - days_parking_in_effect\n",
    "    - from_hours_in_effect\n",
    "    - to_hours_in_effect\n",
    "    - vehicle_color\n",
    "    - unregistered_vehicle\n",
    "    - vehicle_year\n",
    "    - meter_number\n",
    "    - feet_from_curb\n",
    "    - violation_post_code\n",
    "    - violation_description\n",
    "    - no_standing_or_stopping_violation\n",
    "    - hydrant_violation\n",
    "    - double_parking_violation\n"
   ]
  },
  {
   "cell_type": "code",
   "execution_count": 3,
   "id": "180a5c0f",
   "metadata": {},
   "outputs": [],
   "source": [
    "# Read config file\n",
    "import utility as util\n",
    "config_data = util.read_config_file(\"file.yaml\")"
   ]
  },
  {
   "cell_type": "code",
   "execution_count": 4,
   "id": "184f2d9b",
   "metadata": {},
   "outputs": [
    {
     "data": {
      "text/plain": [
       "{'file_type': 'csv',\n",
       " 'dataset_name': 'parknig_data',\n",
       " 'file_name': 'Parking_Violations_Issued_-_Fiscal_Year_2017',\n",
       " 'table_name': 'Parking_Violations_Issued_-_Fiscal_Year_2017',\n",
       " 'inbound_delimiter': ',',\n",
       " 'outbound_delimiter': '|',\n",
       " 'skip_leading_rows': 1,\n",
       " 'columns': ['summons_number',\n",
       "  'plate_id',\n",
       "  'registration_state',\n",
       "  'plate_type',\n",
       "  'issue_date',\n",
       "  'violation_code',\n",
       "  'vehicle_body_type',\n",
       "  'vehicle_make',\n",
       "  'issuing_agency',\n",
       "  'street_code1',\n",
       "  'street_code2',\n",
       "  'street_code3',\n",
       "  'vehicle_expiration_date',\n",
       "  'violation_location',\n",
       "  'violation_precinct',\n",
       "  'issuer_precinct',\n",
       "  'issuer_code',\n",
       "  'issuer_command',\n",
       "  'issuer_squad',\n",
       "  'violation_time',\n",
       "  'time_first_observed',\n",
       "  'violation_county',\n",
       "  'violation_in_front_of_or_opposite',\n",
       "  'house_number',\n",
       "  'street_name',\n",
       "  'intersecting_street',\n",
       "  'date_first_observed',\n",
       "  'law_section',\n",
       "  'sub_division',\n",
       "  'violation_legal_code',\n",
       "  'days_parking_in_effect',\n",
       "  'from_hours_in_effect',\n",
       "  'to_hours_in_effect',\n",
       "  'vehicle_color',\n",
       "  'unregistered_vehicle',\n",
       "  'vehicle_year',\n",
       "  'meter_number',\n",
       "  'feet_from_curb',\n",
       "  'violation_post_code',\n",
       "  'violation_description',\n",
       "  'no_standing_or_stopping_violation',\n",
       "  'hydrant_violation',\n",
       "  'double_parking_violation']}"
      ]
     },
     "execution_count": 4,
     "metadata": {},
     "output_type": "execute_result"
    }
   ],
   "source": [
    "#inspecting data of config file\n",
    "config_data"
   ]
  },
  {
   "cell_type": "markdown",
   "id": "a627751f",
   "metadata": {},
   "source": [
    "# Reading the file"
   ]
  },
  {
   "cell_type": "code",
   "execution_count": 5,
   "id": "1ed95969",
   "metadata": {},
   "outputs": [],
   "source": [
    "import time\n",
    "import pandas as pd\n",
    "import ray\n",
    "import modin.pandas as mpd\n",
    "from dask import dataframe as dd\n",
    "import os"
   ]
  },
  {
   "cell_type": "markdown",
   "id": "9188a931",
   "metadata": {},
   "source": [
    "## Read in the file using Pandas"
   ]
  },
  {
   "cell_type": "code",
   "execution_count": 6,
   "id": "325f104f",
   "metadata": {},
   "outputs": [
    {
     "name": "stderr",
     "output_type": "stream",
     "text": [
      "DtypeWarning: Columns (18,38) have mixed types. Specify dtype option on import or set low_memory=False.\n"
     ]
    },
    {
     "name": "stdout",
     "output_type": "stream",
     "text": [
      "Read the file with pandas:  45.911070108413696 seconds\n"
     ]
    }
   ],
   "source": [
    "start = time.time()\n",
    "pd_df = pd.read_csv('Parking_Violations_Issued_-_Fiscal_Year_2017.csv')\n",
    "end = time.time()\n",
    "print(\"Read the file with pandas: \",(end-start),\"seconds\")"
   ]
  },
  {
   "cell_type": "markdown",
   "id": "5e4376c9",
   "metadata": {},
   "source": [
    "## Read in the file using Modin and Ray"
   ]
  },
  {
   "cell_type": "code",
   "execution_count": 7,
   "id": "9e07322b",
   "metadata": {
    "scrolled": true
   },
   "outputs": [
    {
     "name": "stderr",
     "output_type": "stream",
     "text": [
      "2024-03-13 21:31:43,250\tINFO worker.py:1724 -- Started a local Ray instance.\n",
      "\u001b[33m(raylet)\u001b[0m [2024-03-13 21:35:44,990 E 5948 9948] (raylet.exe) worker_pool.cc:553: Some workers of the worker process(13740) have not registered within the timeout. The process is still alive, probably it's hanging during start.\n",
      "\u001b[33m(raylet)\u001b[0m [2024-03-13 21:38:56,113 E 5948 9948] (raylet.exe) worker_pool.cc:553: Some workers of the worker process(12064) have not registered within the timeout. The process is still alive, probably it's hanging during start.\u001b[32m [repeated 2x across cluster] (Ray deduplicates logs by default. Set RAY_DEDUP_LOGS=0 to disable log deduplication, or see https://docs.ray.io/en/master/ray-observability/ray-logging.html#log-deduplication for more options.)\u001b[0m\n"
     ]
    },
    {
     "name": "stdout",
     "output_type": "stream",
     "text": [
      "Read the file with Modin and Ray: 542.6628022193909 seconds\n"
     ]
    },
    {
     "name": "stderr",
     "output_type": "stream",
     "text": [
      "\u001b[33m(raylet)\u001b[0m [2024-03-13 21:40:42,885 E 5948 9948] (raylet.exe) worker_pool.cc:553: Some workers of the worker process(13852) have not registered within the timeout. The process is still alive, probably it's hanging during start.\u001b[32m [repeated 3x across cluster]\u001b[0m\n"
     ]
    }
   ],
   "source": [
    "if not ray.is_initialized():\n",
    "    ray.init()\n",
    "start = time.time()\n",
    "ray_df = mpd.read_csv('Parking_Violations_Issued_-_Fiscal_Year_2017.csv')\n",
    "end = time.time()\n",
    "print(\"Read the file with Modin and Ray:\", (end - start), \"seconds\")\n",
    "ray.shutdown()"
   ]
  },
  {
   "cell_type": "markdown",
   "id": "35935ac1",
   "metadata": {},
   "source": [
    "## Read in the file using Dask"
   ]
  },
  {
   "cell_type": "code",
   "execution_count": 8,
   "id": "ec9ad28b",
   "metadata": {},
   "outputs": [
    {
     "name": "stdout",
     "output_type": "stream",
     "text": [
      "Read the file with dask:  0.6460757255554199 seconds\n"
     ]
    }
   ],
   "source": [
    "start = time.time()\n",
    "dask_df = dd.read_csv('Parking_Violations_Issued_-_Fiscal_Year_2017.csv', \n",
    "                      dtype={'House Number': 'object', 'Time First Observed': 'object'}, low_memory=False)\n",
    "end = time.time()\n",
    "print(\"Read the file with dask: \",(end-start),\"seconds\")"
   ]
  },
  {
   "cell_type": "markdown",
   "id": "8cb87c73",
   "metadata": {},
   "source": [
    "Conclusion: Dask is unquestionably a leader when it comes to efficiently working with large files."
   ]
  },
  {
   "cell_type": "markdown",
   "id": "114a7abf",
   "metadata": {},
   "source": [
    "## Read in the file using config file"
   ]
  },
  {
   "cell_type": "code",
   "execution_count": 9,
   "id": "c19d5a34",
   "metadata": {},
   "outputs": [
    {
     "name": "stderr",
     "output_type": "stream",
     "text": [
      "DtypeWarning: Columns (18,38) have mixed types. Specify dtype option on import or set low_memory=False.\n"
     ]
    },
    {
     "data": {
      "text/html": [
       "<div>\n",
       "<style scoped>\n",
       "    .dataframe tbody tr th:only-of-type {\n",
       "        vertical-align: middle;\n",
       "    }\n",
       "\n",
       "    .dataframe tbody tr th {\n",
       "        vertical-align: top;\n",
       "    }\n",
       "\n",
       "    .dataframe thead th {\n",
       "        text-align: right;\n",
       "    }\n",
       "</style>\n",
       "<table border=\"1\" class=\"dataframe\">\n",
       "  <thead>\n",
       "    <tr style=\"text-align: right;\">\n",
       "      <th></th>\n",
       "      <th>Summons Number</th>\n",
       "      <th>Plate ID</th>\n",
       "      <th>Registration State</th>\n",
       "      <th>Plate Type</th>\n",
       "      <th>Issue Date</th>\n",
       "      <th>Violation Code</th>\n",
       "      <th>Vehicle Body Type</th>\n",
       "      <th>Vehicle Make</th>\n",
       "      <th>Issuing Agency</th>\n",
       "      <th>Street Code1</th>\n",
       "      <th>...</th>\n",
       "      <th>Vehicle Color</th>\n",
       "      <th>Unregistered Vehicle?</th>\n",
       "      <th>Vehicle Year</th>\n",
       "      <th>Meter Number</th>\n",
       "      <th>Feet From Curb</th>\n",
       "      <th>Violation Post Code</th>\n",
       "      <th>Violation Description</th>\n",
       "      <th>No Standing or Stopping Violation</th>\n",
       "      <th>Hydrant Violation</th>\n",
       "      <th>Double Parking Violation</th>\n",
       "    </tr>\n",
       "  </thead>\n",
       "  <tbody>\n",
       "    <tr>\n",
       "      <th>0</th>\n",
       "      <td>5092469481</td>\n",
       "      <td>GZH7067</td>\n",
       "      <td>NY</td>\n",
       "      <td>PAS</td>\n",
       "      <td>07/10/2016</td>\n",
       "      <td>7</td>\n",
       "      <td>SUBN</td>\n",
       "      <td>TOYOT</td>\n",
       "      <td>V</td>\n",
       "      <td>0</td>\n",
       "      <td>...</td>\n",
       "      <td>GY</td>\n",
       "      <td>NaN</td>\n",
       "      <td>2001</td>\n",
       "      <td>NaN</td>\n",
       "      <td>0</td>\n",
       "      <td>NaN</td>\n",
       "      <td>FAILURE TO STOP AT RED LIGHT</td>\n",
       "      <td>NaN</td>\n",
       "      <td>NaN</td>\n",
       "      <td>NaN</td>\n",
       "    </tr>\n",
       "    <tr>\n",
       "      <th>1</th>\n",
       "      <td>5092451658</td>\n",
       "      <td>GZH7067</td>\n",
       "      <td>NY</td>\n",
       "      <td>PAS</td>\n",
       "      <td>07/08/2016</td>\n",
       "      <td>7</td>\n",
       "      <td>SUBN</td>\n",
       "      <td>TOYOT</td>\n",
       "      <td>V</td>\n",
       "      <td>0</td>\n",
       "      <td>...</td>\n",
       "      <td>GY</td>\n",
       "      <td>NaN</td>\n",
       "      <td>2001</td>\n",
       "      <td>NaN</td>\n",
       "      <td>0</td>\n",
       "      <td>NaN</td>\n",
       "      <td>FAILURE TO STOP AT RED LIGHT</td>\n",
       "      <td>NaN</td>\n",
       "      <td>NaN</td>\n",
       "      <td>NaN</td>\n",
       "    </tr>\n",
       "    <tr>\n",
       "      <th>2</th>\n",
       "      <td>4006265037</td>\n",
       "      <td>FZX9232</td>\n",
       "      <td>NY</td>\n",
       "      <td>PAS</td>\n",
       "      <td>08/23/2016</td>\n",
       "      <td>5</td>\n",
       "      <td>SUBN</td>\n",
       "      <td>FORD</td>\n",
       "      <td>V</td>\n",
       "      <td>0</td>\n",
       "      <td>...</td>\n",
       "      <td>BK</td>\n",
       "      <td>NaN</td>\n",
       "      <td>2004</td>\n",
       "      <td>NaN</td>\n",
       "      <td>0</td>\n",
       "      <td>NaN</td>\n",
       "      <td>BUS LANE VIOLATION</td>\n",
       "      <td>NaN</td>\n",
       "      <td>NaN</td>\n",
       "      <td>NaN</td>\n",
       "    </tr>\n",
       "    <tr>\n",
       "      <th>3</th>\n",
       "      <td>8478629828</td>\n",
       "      <td>66623ME</td>\n",
       "      <td>NY</td>\n",
       "      <td>COM</td>\n",
       "      <td>06/14/2017</td>\n",
       "      <td>47</td>\n",
       "      <td>REFG</td>\n",
       "      <td>MITSU</td>\n",
       "      <td>T</td>\n",
       "      <td>10610</td>\n",
       "      <td>...</td>\n",
       "      <td>WH</td>\n",
       "      <td>NaN</td>\n",
       "      <td>2007</td>\n",
       "      <td>NaN</td>\n",
       "      <td>0</td>\n",
       "      <td>04</td>\n",
       "      <td>47-Double PKG-Midtown</td>\n",
       "      <td>NaN</td>\n",
       "      <td>NaN</td>\n",
       "      <td>NaN</td>\n",
       "    </tr>\n",
       "    <tr>\n",
       "      <th>4</th>\n",
       "      <td>7868300310</td>\n",
       "      <td>37033JV</td>\n",
       "      <td>NY</td>\n",
       "      <td>COM</td>\n",
       "      <td>11/21/2016</td>\n",
       "      <td>69</td>\n",
       "      <td>DELV</td>\n",
       "      <td>INTER</td>\n",
       "      <td>T</td>\n",
       "      <td>10510</td>\n",
       "      <td>...</td>\n",
       "      <td>WHITE</td>\n",
       "      <td>NaN</td>\n",
       "      <td>2007</td>\n",
       "      <td>NaN</td>\n",
       "      <td>0</td>\n",
       "      <td>31 6</td>\n",
       "      <td>69-Failure to Disp Muni Recpt</td>\n",
       "      <td>NaN</td>\n",
       "      <td>NaN</td>\n",
       "      <td>NaN</td>\n",
       "    </tr>\n",
       "  </tbody>\n",
       "</table>\n",
       "<p>5 rows × 43 columns</p>\n",
       "</div>"
      ],
      "text/plain": [
       "   Summons Number Plate ID Registration State Plate Type  Issue Date  \\\n",
       "0      5092469481  GZH7067                 NY        PAS  07/10/2016   \n",
       "1      5092451658  GZH7067                 NY        PAS  07/08/2016   \n",
       "2      4006265037  FZX9232                 NY        PAS  08/23/2016   \n",
       "3      8478629828  66623ME                 NY        COM  06/14/2017   \n",
       "4      7868300310  37033JV                 NY        COM  11/21/2016   \n",
       "\n",
       "   Violation Code Vehicle Body Type Vehicle Make Issuing Agency  Street Code1  \\\n",
       "0               7              SUBN        TOYOT              V             0   \n",
       "1               7              SUBN        TOYOT              V             0   \n",
       "2               5              SUBN         FORD              V             0   \n",
       "3              47              REFG        MITSU              T         10610   \n",
       "4              69              DELV        INTER              T         10510   \n",
       "\n",
       "   ...  Vehicle Color  Unregistered Vehicle?  Vehicle Year  Meter Number  \\\n",
       "0  ...             GY                    NaN          2001           NaN   \n",
       "1  ...             GY                    NaN          2001           NaN   \n",
       "2  ...             BK                    NaN          2004           NaN   \n",
       "3  ...             WH                    NaN          2007           NaN   \n",
       "4  ...          WHITE                    NaN          2007           NaN   \n",
       "\n",
       "   Feet From Curb  Violation Post Code          Violation Description  \\\n",
       "0               0                  NaN   FAILURE TO STOP AT RED LIGHT   \n",
       "1               0                  NaN   FAILURE TO STOP AT RED LIGHT   \n",
       "2               0                  NaN             BUS LANE VIOLATION   \n",
       "3               0                   04          47-Double PKG-Midtown   \n",
       "4               0                 31 6  69-Failure to Disp Muni Recpt   \n",
       "\n",
       "  No Standing or Stopping Violation Hydrant Violation Double Parking Violation  \n",
       "0                               NaN               NaN                      NaN  \n",
       "1                               NaN               NaN                      NaN  \n",
       "2                               NaN               NaN                      NaN  \n",
       "3                               NaN               NaN                      NaN  \n",
       "4                               NaN               NaN                      NaN  \n",
       "\n",
       "[5 rows x 43 columns]"
      ]
     },
     "execution_count": 9,
     "metadata": {},
     "output_type": "execute_result"
    }
   ],
   "source": [
    "file_type = config_data['file_type']\n",
    "source_file = \"./\" + config_data['file_name'] + f'.{file_type}'\n",
    "#print(\"\",source_file)\n",
    "df = pd.read_csv(source_file, sep=config_data['inbound_delimiter'])\n",
    "df.head()"
   ]
  },
  {
   "cell_type": "markdown",
   "id": "08c27512",
   "metadata": {},
   "source": [
    "## Validate the header of the file"
   ]
  },
  {
   "cell_type": "code",
   "execution_count": 10,
   "id": "200776e2",
   "metadata": {},
   "outputs": [
    {
     "name": "stdout",
     "output_type": "stream",
     "text": [
      "Column name and column length validation passed.\n"
     ]
    }
   ],
   "source": [
    "result_df = util.col_header_val(dask_df,config_data)[1]"
   ]
  },
  {
   "cell_type": "code",
   "execution_count": 11,
   "id": "6d04fa11",
   "metadata": {},
   "outputs": [
    {
     "data": {
      "text/plain": [
       "Index(['date_first_observed', 'days_parking_in_effect',\n",
       "       'double_parking_violation', 'feet_from_curb', 'from_hours_in_effect',\n",
       "       'house_number', 'hydrant_violation', 'intersecting_street',\n",
       "       'issue_date', 'issuer_code', 'issuer_command', 'issuer_precinct',\n",
       "       'issuer_squad', 'issuing_agency', 'law_section', 'meter_number',\n",
       "       'no_standing_or_stopping_violation', 'plate_id', 'plate_type',\n",
       "       'registration_state', 'street_code1', 'street_code2', 'street_code3',\n",
       "       'street_name', 'sub_division', 'summons_number', 'time_first_observed',\n",
       "       'to_hours_in_effect', 'unregistered_vehicle', 'vehicle_body_type',\n",
       "       'vehicle_color', 'vehicle_expiration_date', 'vehicle_make',\n",
       "       'vehicle_year', 'violation_code', 'violation_county',\n",
       "       'violation_description', 'violation_in_front_of_or_opposite',\n",
       "       'violation_legal_code', 'violation_location', 'violation_post_code',\n",
       "       'violation_precinct', 'violation_time'],\n",
       "      dtype='object')"
      ]
     },
     "execution_count": 11,
     "metadata": {},
     "output_type": "execute_result"
    }
   ],
   "source": [
    "result_df.columns"
   ]
  },
  {
   "cell_type": "code",
   "execution_count": 12,
   "id": "5c8dc84d",
   "metadata": {},
   "outputs": [
    {
     "name": "stdout",
     "output_type": "stream",
     "text": [
      "Column name and column length validation passed.\n",
      "Validation passed.\n"
     ]
    }
   ],
   "source": [
    "if util.col_header_val(dask_df,config_data)[0]==0:\n",
    "    print(\"Validation failed.\")\n",
    "    # write code to reject the file\n",
    "else:\n",
    "    print(\"Validation passed.\")\n",
    "    subset_df = result_df.head(1000)\n",
    "    subset_df.to_csv('output_file.csv.gz', sep='|', compression='gzip', index=False)"
   ]
  },
  {
   "cell_type": "markdown",
   "id": "f5738273",
   "metadata": {},
   "source": [
    "## Summary"
   ]
  },
  {
   "cell_type": "code",
   "execution_count": 16,
   "id": "76c52793",
   "metadata": {},
   "outputs": [
    {
     "name": "stdout",
     "output_type": "stream",
     "text": [
      "Total number of rows: 10803028\n",
      "Total number of columns: 43\n",
      "Size of the short version of the file: 64006 bytes\n"
     ]
    }
   ],
   "source": [
    "print(f\"Total number of rows: {len(dask_df)}\")\n",
    "print(f\"Total number of columns: {len(dask_df.columns)}\")\n",
    "print(f\"Size of the short version of the file: {os.path.getsize('output_file.csv.gz')} bytes\")"
   ]
  }
 ],
 "metadata": {
  "kernelspec": {
   "display_name": "Python 3 (ipykernel)",
   "language": "python",
   "name": "python3"
  },
  "language_info": {
   "codemirror_mode": {
    "name": "ipython",
    "version": 3
   },
   "file_extension": ".py",
   "mimetype": "text/x-python",
   "name": "python",
   "nbconvert_exporter": "python",
   "pygments_lexer": "ipython3",
   "version": "3.9.7"
  }
 },
 "nbformat": 4,
 "nbformat_minor": 5
}
